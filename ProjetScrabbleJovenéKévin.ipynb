{
  "nbformat": 4,
  "nbformat_minor": 0,
  "metadata": {
    "colab": {
      "provenance": [],
      "authorship_tag": "ABX9TyPEMQCGGgl3CYS+XblqBFA1",
      "include_colab_link": true
    },
    "kernelspec": {
      "name": "python3",
      "display_name": "Python 3"
    },
    "language_info": {
      "name": "python"
    }
  },
  "cells": [
    {
      "cell_type": "markdown",
      "metadata": {
        "id": "view-in-github",
        "colab_type": "text"
      },
      "source": [
        "<a href=\"https://colab.research.google.com/github/KJovene/Premier-Projet-Python/blob/main/ProjetScrabbleJoven%C3%A9K%C3%A9vin.ipynb\" target=\"_parent\"><img src=\"https://colab.research.google.com/assets/colab-badge.svg\" alt=\"Open In Colab\"/></a>"
      ]
    },
    {
      "cell_type": "code",
      "source": [
        "import random\n",
        "\n",
        "def selected_word1():\n",
        "    mots = [\"loup\",\"bain\",\"port\",\"soin\",\"four\",\"vase\",\"chat\",\"jour\"]\n",
        "    i = len(mots) - 1\n",
        "\n",
        "    while i > 0:\n",
        "      j = random.randint(0, i)\n",
        "      mots[i], mots[j] = mots[j], mots[i]\n",
        "      i = i - 1\n",
        "\n",
        "      return mots[:3]\n",
        "\n",
        "\n",
        "resultat = selected_word1()\n",
        "print(resultat)"
      ],
      "metadata": {
        "id": "NXciBJGmukBs",
        "colab": {
          "base_uri": "https://localhost:8080/"
        },
        "outputId": "0e8c7061-01b3-4c3a-ff87-58ba8c22f094"
      },
      "execution_count": null,
      "outputs": [
        {
          "output_type": "stream",
          "name": "stdout",
          "text": [
            "['loup', 'bain', 'jour']\n"
          ]
        }
      ]
    },
    {
      "cell_type": "code",
      "source": [
        "import random\n",
        "\n",
        "def selected_word2():\n",
        "    mots = [\"plante\",\"cheval\",\"groupe\",\"bateau\",\"souris\",\"jardin\",\"beurre\",\"tomate\"]\n",
        "    i = len(mots) - 1\n",
        "\n",
        "    while i > 0:\n",
        "      j = random.randint(0, i)\n",
        "      mots[i], mots[j] = mots[j], mots[i]\n",
        "      i = i - 1\n",
        "\n",
        "      return mots[:3]\n",
        "\n",
        "\n",
        "resultat = selected_word2()\n",
        "print(resultat)"
      ],
      "metadata": {
        "id": "IzxuDrsAteRE",
        "colab": {
          "base_uri": "https://localhost:8080/"
        },
        "outputId": "ff8f6e43-4075-4a83-823d-309b1f2fc56b"
      },
      "execution_count": null,
      "outputs": [
        {
          "output_type": "stream",
          "name": "stdout",
          "text": [
            "['tomate', 'cheval', 'groupe']\n"
          ]
        }
      ]
    },
    {
      "cell_type": "code",
      "source": [
        "import random\n",
        "\n",
        "def selected_word3():\n",
        "    mots = [\"campagne\",\"fromage\",\"chateau\",\"paysages\",\"gentille\",\"lunettes\",\"bienvenue\",\"paradis\"]\n",
        "    i = len(mots) - 1\n",
        "\n",
        "    while i > 0:\n",
        "      j = random.randint(0, i)\n",
        "      mots[i], mots[j] = mots[j], mots[i]\n",
        "      i = i - 1\n",
        "\n",
        "      return mots[:3]\n",
        "\n",
        "\n",
        "resultat = selected_word3()\n",
        "print(resultat)"
      ],
      "metadata": {
        "id": "KR0vBe9GucJR",
        "colab": {
          "base_uri": "https://localhost:8080/"
        },
        "outputId": "489fa75a-b656-4196-c428-13cdcea2b623"
      },
      "execution_count": null,
      "outputs": [
        {
          "output_type": "stream",
          "name": "stdout",
          "text": [
            "['campagne', 'fromage', 'chateau']\n"
          ]
        }
      ]
    },
    {
      "cell_type": "code",
      "source": [
        "def shuffle1():\n",
        "  import random\n",
        "  mots = selected_word1()\n",
        "\n",
        "  lettres = []\n",
        "  for mot in mots:\n",
        "    lettres.extend(list(mot))\n",
        "\n",
        "  i = len(lettres) - 1\n",
        "  while i > 0:\n",
        "     j = random.randint(0, i)\n",
        "     lettres[i], lettres[j] = lettres[j], lettres[i]\n",
        "     i = i - 1\n",
        "\n",
        "  mot_melange = \"\".join(lettres)\n",
        "  return mot_melange\n",
        "  print(mot_melange)"
      ],
      "metadata": {
        "id": "JTkvYoBf-kEa"
      },
      "execution_count": null,
      "outputs": []
    },
    {
      "cell_type": "code",
      "source": [
        "def shuffle2():\n",
        "  import random\n",
        "  mots = selected_word2()\n",
        "\n",
        "  lettres = []\n",
        "  for mot in mots:\n",
        "    lettres.extend(list(mot))\n",
        "\n",
        "  i = len(lettres) - 1\n",
        "  while i > 0:\n",
        "     j = random.randint(0, i)\n",
        "     lettres[i], lettres[j] = lettres[j], lettres[i]\n",
        "     i = i - 1\n",
        "\n",
        "  mot_melange = \"\".join(lettres)\n",
        "  return mot_melange\n",
        "  print(mot_melange)"
      ],
      "metadata": {
        "id": "hHzG9ZyetzXC"
      },
      "execution_count": null,
      "outputs": []
    },
    {
      "cell_type": "code",
      "source": [
        "def shuffle3():\n",
        "  import random\n",
        "  mots = selected_word3()\n",
        "\n",
        "  lettres = []\n",
        "  for mot in mots:\n",
        "    lettres.extend(list(mot))\n",
        "\n",
        "  i = len(lettres) - 1\n",
        "  while i > 0:\n",
        "     j = random.randint(0, i)\n",
        "     lettres[i], lettres[j] = lettres[j], lettres[i]\n",
        "     i = i - 1\n",
        "\n",
        "  mot_melange = \"\".join(lettres)\n",
        "  return mot_melange\n",
        "  print(mot_melange)"
      ],
      "metadata": {
        "id": "jKODpappugKR"
      },
      "execution_count": null,
      "outputs": []
    },
    {
      "cell_type": "code",
      "source": [
        "def double1():\n",
        "  mot_melange = shuffle1()\n",
        "  melange = \"\"\n",
        "  i = 0\n",
        "  while i < len(mot_melange):\n",
        "    variable = True\n",
        "    b = 0\n",
        "    while b < len(melange):\n",
        "      if mot_melange[i] == melange[b]:\n",
        "        variable = False\n",
        "        b = 0\n",
        "        break\n",
        "      b = b + 1\n",
        "    if variable :\n",
        "      melange = melange + mot_melange[i]\n",
        "    i = i + 1\n",
        "  return melange"
      ],
      "metadata": {
        "id": "_z3EL8nyO6gA"
      },
      "execution_count": null,
      "outputs": []
    },
    {
      "cell_type": "code",
      "source": [
        "def double2():\n",
        "  mot_melange = shuffle2()\n",
        "  melange = \"\"\n",
        "  i = 0\n",
        "  while i < len(mot_melange):\n",
        "    variable = True\n",
        "    b = 0\n",
        "    while b < len(melange):\n",
        "      if mot_melange[i] == melange[b]:\n",
        "        variable = False\n",
        "        b = 0\n",
        "        break\n",
        "      b = b + 1\n",
        "    if variable :\n",
        "      melange = melange + mot_melange[i]\n",
        "    i = i + 1\n",
        "  return melange"
      ],
      "metadata": {
        "id": "oS3FfG4it53t"
      },
      "execution_count": null,
      "outputs": []
    },
    {
      "cell_type": "code",
      "source": [
        "def double3():\n",
        "  mot_melange = shuffle3()\n",
        "  melange = \"\"\n",
        "  i = 0\n",
        "  while i < len(mot_melange):\n",
        "    variable = True\n",
        "    b = 0\n",
        "    while b < len(melange):\n",
        "      if mot_melange[i] == melange[b]:\n",
        "        variable = False\n",
        "        b = 0\n",
        "        break\n",
        "      b = b + 1\n",
        "    if variable :\n",
        "      melange = melange + mot_melange[i]\n",
        "    i = i + 1\n",
        "  return melange"
      ],
      "metadata": {
        "id": "_-_XtVOGukfp"
      },
      "execution_count": null,
      "outputs": []
    },
    {
      "cell_type": "code",
      "source": [
        "liste1 = selected_word1()\n",
        "liste2 = selected_word2()\n",
        "liste3 = selected_word3()\n",
        "\n",
        "i = 0\n",
        "j = 0\n",
        "k = 0\n",
        "compteur = 0\n",
        "\n",
        "print(\"Bienvenue ! Pour remporter ce jeu, vous allez devoir trouver 3 mots dans une liste de lettres\")\n",
        "print(\"A tout moment, si vous ne trouvez pas, vous pouvez écrire 'Quit' pour passer au niveau suivant\")\n",
        "\n",
        "print(\"Voici le premier niveau, vous devez trouver des mots de 4 lettres :\")\n",
        "print(double1())\n",
        "\n",
        "while i < 3:\n",
        "  mot_saisi = input(\"Vous proposez le mot :\")\n",
        "  if mot_saisi == \"Quit\":\n",
        "    print(\"Vous sortez du niveau\")\n",
        "    break\n",
        "  if mot_saisi not in liste1 :\n",
        "    print(\"Mauvaise réponse\")\n",
        "    continue\n",
        "  compteur = compteur + 1\n",
        "  liste1.remove(mot_saisi)\n",
        "  i = i + 1\n",
        "  print(\"Bravo ! Vous venez de marquer 1 point\")\n",
        "\n",
        "print(\"Vous avez marqué :\", compteur,\"points\")\n",
        "print(\"Vous passez au niveau suivant\")\n",
        "\n",
        "print(\"Voici les nouvelles lettres, vous devez trouver des mots de 6 lettres :\")\n",
        "print(double2())\n",
        "while j < 3:\n",
        "  mot_saisi = input(\"Vous proposez le mot :\")\n",
        "  if mot_saisi == \"Quit\":\n",
        "    print(\"Vous sortez du niveau\")\n",
        "    break\n",
        "  if mot_saisi not in liste2 :\n",
        "    print(\"Mauvaise réponse\")\n",
        "    continue\n",
        "  compteur = compteur + 1\n",
        "  liste2.remove(mot_saisi)\n",
        "  j = j + 1\n",
        "  print(\"Bravo ! Vous venez de marquer 1 point\")\n",
        "\n",
        "print(\"Vous avez marqué :\", compteur, \"points\")\n",
        "print(\"Vous passez au niveau suivant\")\n",
        "\n",
        "print(\"Voici les nouvelles lettres, vous devez trouver des mots de 8 lettres :\")\n",
        "print(double3())\n",
        "\n",
        "while k < 3:\n",
        "  mot_saisi = input(\"Vous proposez le mot :\")\n",
        "  if mot_saisi == \"Quit\":\n",
        "    print(\"Vous sortez du niveau\")\n",
        "    break\n",
        "  if mot_saisi not in liste3 :\n",
        "    print(\"Mauvaise réponse\")\n",
        "    continue\n",
        "  compteur = compteur + 1\n",
        "  liste3.remove(mot_saisi)\n",
        "  k = k + 1\n",
        "  print(\"Bravo ! Vous venez de marquer 1 point\")\n",
        "\n",
        "print(\"Vous venez de terminer le jeu, voici votre total de point :\", compteur)\n"
      ],
      "metadata": {
        "id": "9N3p2KM_rMqv"
      },
      "execution_count": null,
      "outputs": []
    }
  ]
}